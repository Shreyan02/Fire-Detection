{
 "cells": [
  {
   "cell_type": "code",
   "execution_count": 1,
   "id": "c36bc2e7",
   "metadata": {},
   "outputs": [],
   "source": [
    "import pandas as pd\n",
    "import numpy as np\n",
    "import matplotlib.pyplot as plt\n",
    "import math\n",
    "import random\n",
    "import csv"
   ]
  },
  {
   "cell_type": "code",
   "execution_count": 2,
   "id": "867c4f40",
   "metadata": {},
   "outputs": [],
   "source": [
    "dataset = pd.read_csv(\"sdcReduced3.csv\")"
   ]
  },
  {
   "cell_type": "code",
   "execution_count": 3,
   "id": "fabdb178",
   "metadata": {},
   "outputs": [
    {
     "data": {
      "text/html": [
       "<div>\n",
       "<style scoped>\n",
       "    .dataframe tbody tr th:only-of-type {\n",
       "        vertical-align: middle;\n",
       "    }\n",
       "\n",
       "    .dataframe tbody tr th {\n",
       "        vertical-align: top;\n",
       "    }\n",
       "\n",
       "    .dataframe thead th {\n",
       "        text-align: right;\n",
       "    }\n",
       "</style>\n",
       "<table border=\"1\" class=\"dataframe\">\n",
       "  <thead>\n",
       "    <tr style=\"text-align: right;\">\n",
       "      <th></th>\n",
       "      <th>Temp.</th>\n",
       "      <th>Smoke</th>\n",
       "      <th>CO conc.</th>\n",
       "      <th>CO2 conc.</th>\n",
       "      <th>O2 conc.</th>\n",
       "      <th>Fire Label</th>\n",
       "    </tr>\n",
       "  </thead>\n",
       "  <tbody>\n",
       "    <tr>\n",
       "      <th>0</th>\n",
       "      <td>25.80</td>\n",
       "      <td>0.299</td>\n",
       "      <td>0.074</td>\n",
       "      <td>1.030</td>\n",
       "      <td>21.000</td>\n",
       "      <td>0</td>\n",
       "    </tr>\n",
       "    <tr>\n",
       "      <th>1</th>\n",
       "      <td>25.80</td>\n",
       "      <td>0.296</td>\n",
       "      <td>0.078</td>\n",
       "      <td>1.030</td>\n",
       "      <td>21.000</td>\n",
       "      <td>0</td>\n",
       "    </tr>\n",
       "    <tr>\n",
       "      <th>2</th>\n",
       "      <td>25.90</td>\n",
       "      <td>0.299</td>\n",
       "      <td>0.077</td>\n",
       "      <td>1.030</td>\n",
       "      <td>21.000</td>\n",
       "      <td>0</td>\n",
       "    </tr>\n",
       "    <tr>\n",
       "      <th>3</th>\n",
       "      <td>25.80</td>\n",
       "      <td>0.296</td>\n",
       "      <td>0.073</td>\n",
       "      <td>1.030</td>\n",
       "      <td>20.900</td>\n",
       "      <td>0</td>\n",
       "    </tr>\n",
       "    <tr>\n",
       "      <th>4</th>\n",
       "      <td>25.90</td>\n",
       "      <td>0.302</td>\n",
       "      <td>0.077</td>\n",
       "      <td>1.030</td>\n",
       "      <td>21.000</td>\n",
       "      <td>0</td>\n",
       "    </tr>\n",
       "    <tr>\n",
       "      <th>...</th>\n",
       "      <td>...</td>\n",
       "      <td>...</td>\n",
       "      <td>...</td>\n",
       "      <td>...</td>\n",
       "      <td>...</td>\n",
       "      <td>...</td>\n",
       "    </tr>\n",
       "    <tr>\n",
       "      <th>5445</th>\n",
       "      <td>28.64</td>\n",
       "      <td>1.688</td>\n",
       "      <td>0.167</td>\n",
       "      <td>14.598</td>\n",
       "      <td>8.185</td>\n",
       "      <td>1</td>\n",
       "    </tr>\n",
       "    <tr>\n",
       "      <th>5446</th>\n",
       "      <td>28.33</td>\n",
       "      <td>1.688</td>\n",
       "      <td>0.160</td>\n",
       "      <td>14.383</td>\n",
       "      <td>8.185</td>\n",
       "      <td>1</td>\n",
       "    </tr>\n",
       "    <tr>\n",
       "      <th>5447</th>\n",
       "      <td>29.19</td>\n",
       "      <td>1.688</td>\n",
       "      <td>0.150</td>\n",
       "      <td>14.144</td>\n",
       "      <td>8.271</td>\n",
       "      <td>1</td>\n",
       "    </tr>\n",
       "    <tr>\n",
       "      <th>5448</th>\n",
       "      <td>29.32</td>\n",
       "      <td>1.688</td>\n",
       "      <td>0.157</td>\n",
       "      <td>13.978</td>\n",
       "      <td>8.279</td>\n",
       "      <td>1</td>\n",
       "    </tr>\n",
       "    <tr>\n",
       "      <th>5449</th>\n",
       "      <td>28.39</td>\n",
       "      <td>1.688</td>\n",
       "      <td>0.155</td>\n",
       "      <td>13.721</td>\n",
       "      <td>8.288</td>\n",
       "      <td>1</td>\n",
       "    </tr>\n",
       "  </tbody>\n",
       "</table>\n",
       "<p>5450 rows × 6 columns</p>\n",
       "</div>"
      ],
      "text/plain": [
       "      Temp.  Smoke   CO conc.  CO2 conc.  O2 conc.  Fire Label\n",
       "0     25.80   0.299     0.074      1.030    21.000           0\n",
       "1     25.80   0.296     0.078      1.030    21.000           0\n",
       "2     25.90   0.299     0.077      1.030    21.000           0\n",
       "3     25.80   0.296     0.073      1.030    20.900           0\n",
       "4     25.90   0.302     0.077      1.030    21.000           0\n",
       "...     ...     ...       ...        ...       ...         ...\n",
       "5445  28.64   1.688     0.167     14.598     8.185           1\n",
       "5446  28.33   1.688     0.160     14.383     8.185           1\n",
       "5447  29.19   1.688     0.150     14.144     8.271           1\n",
       "5448  29.32   1.688     0.157     13.978     8.279           1\n",
       "5449  28.39   1.688     0.155     13.721     8.288           1\n",
       "\n",
       "[5450 rows x 6 columns]"
      ]
     },
     "execution_count": 3,
     "metadata": {},
     "output_type": "execute_result"
    }
   ],
   "source": [
    "dataset"
   ]
  },
  {
   "cell_type": "code",
   "execution_count": 4,
   "id": "8a61945a",
   "metadata": {},
   "outputs": [],
   "source": [
    "# input\n",
    "x = dataset.iloc[:, [0, 1, 2, 3, 4]].values\n",
    "\n",
    "# output\n",
    "y = dataset.iloc[:, 5].values"
   ]
  },
  {
   "cell_type": "code",
   "execution_count": 5,
   "id": "ff55c04e",
   "metadata": {},
   "outputs": [],
   "source": [
    "# importing utility modules\n",
    "import pandas as pd\n",
    "from sklearn.model_selection import train_test_split\n",
    "from sklearn.metrics import log_loss\n",
    "\n",
    "# importing machine learning models for prediction\n",
    "from sklearn.naive_bayes import GaussianNB\n",
    "from sklearn.linear_model import LogisticRegression\n",
    "from sklearn.ensemble import RandomForestClassifier\n",
    "from sklearn.tree import DecisionTreeClassifier\n",
    "from sklearn.svm import SVC\n",
    "from sklearn.neighbors import KNeighborsClassifier\n",
    "\n",
    "# importing voting classifier\n",
    "from sklearn.ensemble import VotingClassifier"
   ]
  },
  {
   "cell_type": "code",
   "execution_count": 6,
   "id": "16003cce",
   "metadata": {},
   "outputs": [],
   "source": [
    "from sklearn.model_selection import train_test_split\n",
    "\n",
    "X_train, X_test, y_train, y_test = train_test_split(\n",
    "    x, y, test_size=0.30, random_state=0\n",
    ")"
   ]
  },
  {
   "cell_type": "code",
   "execution_count": 7,
   "id": "66431556",
   "metadata": {},
   "outputs": [],
   "source": [
    "model1 = GaussianNB()\n",
    "model2 = LogisticRegression()\n",
    "model3 = RandomForestClassifier()\n",
    "model4 = DecisionTreeClassifier()\n",
    "model5 = KNeighborsClassifier(n_neighbors=2)\n",
    "model6 = SVC()"
   ]
  },
  {
   "cell_type": "code",
   "execution_count": 8,
   "id": "ec088c69",
   "metadata": {},
   "outputs": [
    {
     "data": {
      "text/html": [
       "<style>#sk-container-id-1 {color: black;background-color: white;}#sk-container-id-1 pre{padding: 0;}#sk-container-id-1 div.sk-toggleable {background-color: white;}#sk-container-id-1 label.sk-toggleable__label {cursor: pointer;display: block;width: 100%;margin-bottom: 0;padding: 0.3em;box-sizing: border-box;text-align: center;}#sk-container-id-1 label.sk-toggleable__label-arrow:before {content: \"▸\";float: left;margin-right: 0.25em;color: #696969;}#sk-container-id-1 label.sk-toggleable__label-arrow:hover:before {color: black;}#sk-container-id-1 div.sk-estimator:hover label.sk-toggleable__label-arrow:before {color: black;}#sk-container-id-1 div.sk-toggleable__content {max-height: 0;max-width: 0;overflow: hidden;text-align: left;background-color: #f0f8ff;}#sk-container-id-1 div.sk-toggleable__content pre {margin: 0.2em;color: black;border-radius: 0.25em;background-color: #f0f8ff;}#sk-container-id-1 input.sk-toggleable__control:checked~div.sk-toggleable__content {max-height: 200px;max-width: 100%;overflow: auto;}#sk-container-id-1 input.sk-toggleable__control:checked~label.sk-toggleable__label-arrow:before {content: \"▾\";}#sk-container-id-1 div.sk-estimator input.sk-toggleable__control:checked~label.sk-toggleable__label {background-color: #d4ebff;}#sk-container-id-1 div.sk-label input.sk-toggleable__control:checked~label.sk-toggleable__label {background-color: #d4ebff;}#sk-container-id-1 input.sk-hidden--visually {border: 0;clip: rect(1px 1px 1px 1px);clip: rect(1px, 1px, 1px, 1px);height: 1px;margin: -1px;overflow: hidden;padding: 0;position: absolute;width: 1px;}#sk-container-id-1 div.sk-estimator {font-family: monospace;background-color: #f0f8ff;border: 1px dotted black;border-radius: 0.25em;box-sizing: border-box;margin-bottom: 0.5em;}#sk-container-id-1 div.sk-estimator:hover {background-color: #d4ebff;}#sk-container-id-1 div.sk-parallel-item::after {content: \"\";width: 100%;border-bottom: 1px solid gray;flex-grow: 1;}#sk-container-id-1 div.sk-label:hover label.sk-toggleable__label {background-color: #d4ebff;}#sk-container-id-1 div.sk-serial::before {content: \"\";position: absolute;border-left: 1px solid gray;box-sizing: border-box;top: 0;bottom: 0;left: 50%;z-index: 0;}#sk-container-id-1 div.sk-serial {display: flex;flex-direction: column;align-items: center;background-color: white;padding-right: 0.2em;padding-left: 0.2em;position: relative;}#sk-container-id-1 div.sk-item {position: relative;z-index: 1;}#sk-container-id-1 div.sk-parallel {display: flex;align-items: stretch;justify-content: center;background-color: white;position: relative;}#sk-container-id-1 div.sk-item::before, #sk-container-id-1 div.sk-parallel-item::before {content: \"\";position: absolute;border-left: 1px solid gray;box-sizing: border-box;top: 0;bottom: 0;left: 50%;z-index: -1;}#sk-container-id-1 div.sk-parallel-item {display: flex;flex-direction: column;z-index: 1;position: relative;background-color: white;}#sk-container-id-1 div.sk-parallel-item:first-child::after {align-self: flex-end;width: 50%;}#sk-container-id-1 div.sk-parallel-item:last-child::after {align-self: flex-start;width: 50%;}#sk-container-id-1 div.sk-parallel-item:only-child::after {width: 0;}#sk-container-id-1 div.sk-dashed-wrapped {border: 1px dashed gray;margin: 0 0.4em 0.5em 0.4em;box-sizing: border-box;padding-bottom: 0.4em;background-color: white;}#sk-container-id-1 div.sk-label label {font-family: monospace;font-weight: bold;display: inline-block;line-height: 1.2em;}#sk-container-id-1 div.sk-label-container {text-align: center;}#sk-container-id-1 div.sk-container {/* jupyter's `normalize.less` sets `[hidden] { display: none; }` but bootstrap.min.css set `[hidden] { display: none !important; }` so we also need the `!important` here to be able to override the default hidden behavior on the sphinx rendered scikit-learn.org. See: https://github.com/scikit-learn/scikit-learn/issues/21755 */display: inline-block !important;position: relative;}#sk-container-id-1 div.sk-text-repr-fallback {display: none;}</style><div id=\"sk-container-id-1\" class=\"sk-top-container\"><div class=\"sk-text-repr-fallback\"><pre>VotingClassifier(estimators=[(&#x27;nb&#x27;, GaussianNB()), (&#x27;lr&#x27;, LogisticRegression()),\n",
       "                             (&#x27;rf&#x27;, RandomForestClassifier()),\n",
       "                             (&#x27;dt&#x27;, DecisionTreeClassifier()),\n",
       "                             (&#x27;knn&#x27;, KNeighborsClassifier(n_neighbors=2))])</pre><b>In a Jupyter environment, please rerun this cell to show the HTML representation or trust the notebook. <br />On GitHub, the HTML representation is unable to render, please try loading this page with nbviewer.org.</b></div><div class=\"sk-container\" hidden><div class=\"sk-item sk-dashed-wrapped\"><div class=\"sk-label-container\"><div class=\"sk-label sk-toggleable\"><input class=\"sk-toggleable__control sk-hidden--visually\" id=\"sk-estimator-id-1\" type=\"checkbox\" ><label for=\"sk-estimator-id-1\" class=\"sk-toggleable__label sk-toggleable__label-arrow\">VotingClassifier</label><div class=\"sk-toggleable__content\"><pre>VotingClassifier(estimators=[(&#x27;nb&#x27;, GaussianNB()), (&#x27;lr&#x27;, LogisticRegression()),\n",
       "                             (&#x27;rf&#x27;, RandomForestClassifier()),\n",
       "                             (&#x27;dt&#x27;, DecisionTreeClassifier()),\n",
       "                             (&#x27;knn&#x27;, KNeighborsClassifier(n_neighbors=2))])</pre></div></div></div><div class=\"sk-parallel\"><div class=\"sk-parallel-item\"><div class=\"sk-item\"><div class=\"sk-label-container\"><div class=\"sk-label sk-toggleable\"><label>nb</label></div></div><div class=\"sk-serial\"><div class=\"sk-item\"><div class=\"sk-estimator sk-toggleable\"><input class=\"sk-toggleable__control sk-hidden--visually\" id=\"sk-estimator-id-2\" type=\"checkbox\" ><label for=\"sk-estimator-id-2\" class=\"sk-toggleable__label sk-toggleable__label-arrow\">GaussianNB</label><div class=\"sk-toggleable__content\"><pre>GaussianNB()</pre></div></div></div></div></div></div><div class=\"sk-parallel-item\"><div class=\"sk-item\"><div class=\"sk-label-container\"><div class=\"sk-label sk-toggleable\"><label>lr</label></div></div><div class=\"sk-serial\"><div class=\"sk-item\"><div class=\"sk-estimator sk-toggleable\"><input class=\"sk-toggleable__control sk-hidden--visually\" id=\"sk-estimator-id-3\" type=\"checkbox\" ><label for=\"sk-estimator-id-3\" class=\"sk-toggleable__label sk-toggleable__label-arrow\">LogisticRegression</label><div class=\"sk-toggleable__content\"><pre>LogisticRegression()</pre></div></div></div></div></div></div><div class=\"sk-parallel-item\"><div class=\"sk-item\"><div class=\"sk-label-container\"><div class=\"sk-label sk-toggleable\"><label>rf</label></div></div><div class=\"sk-serial\"><div class=\"sk-item\"><div class=\"sk-estimator sk-toggleable\"><input class=\"sk-toggleable__control sk-hidden--visually\" id=\"sk-estimator-id-4\" type=\"checkbox\" ><label for=\"sk-estimator-id-4\" class=\"sk-toggleable__label sk-toggleable__label-arrow\">RandomForestClassifier</label><div class=\"sk-toggleable__content\"><pre>RandomForestClassifier()</pre></div></div></div></div></div></div><div class=\"sk-parallel-item\"><div class=\"sk-item\"><div class=\"sk-label-container\"><div class=\"sk-label sk-toggleable\"><label>dt</label></div></div><div class=\"sk-serial\"><div class=\"sk-item\"><div class=\"sk-estimator sk-toggleable\"><input class=\"sk-toggleable__control sk-hidden--visually\" id=\"sk-estimator-id-5\" type=\"checkbox\" ><label for=\"sk-estimator-id-5\" class=\"sk-toggleable__label sk-toggleable__label-arrow\">DecisionTreeClassifier</label><div class=\"sk-toggleable__content\"><pre>DecisionTreeClassifier()</pre></div></div></div></div></div></div><div class=\"sk-parallel-item\"><div class=\"sk-item\"><div class=\"sk-label-container\"><div class=\"sk-label sk-toggleable\"><label>knn</label></div></div><div class=\"sk-serial\"><div class=\"sk-item\"><div class=\"sk-estimator sk-toggleable\"><input class=\"sk-toggleable__control sk-hidden--visually\" id=\"sk-estimator-id-6\" type=\"checkbox\" ><label for=\"sk-estimator-id-6\" class=\"sk-toggleable__label sk-toggleable__label-arrow\">KNeighborsClassifier</label><div class=\"sk-toggleable__content\"><pre>KNeighborsClassifier(n_neighbors=2)</pre></div></div></div></div></div></div></div></div></div></div>"
      ],
      "text/plain": [
       "VotingClassifier(estimators=[('nb', GaussianNB()), ('lr', LogisticRegression()),\n",
       "                             ('rf', RandomForestClassifier()),\n",
       "                             ('dt', DecisionTreeClassifier()),\n",
       "                             ('knn', KNeighborsClassifier(n_neighbors=2))])"
      ]
     },
     "execution_count": 8,
     "metadata": {},
     "output_type": "execute_result"
    }
   ],
   "source": [
    "em1 = VotingClassifier(\n",
    "\testimators=[('nb', model1), ('lr', model2)], voting='hard')\n",
    "em1.fit(X_train, y_train)\n",
    "em2 = VotingClassifier(\n",
    "\testimators=[('nb', model1), ('rf', model3)], voting='hard')\n",
    "em2.fit(X_train, y_train)\n",
    "em3 = VotingClassifier(\n",
    "\testimators=[('nb', model1), ('dt', model4)], voting='hard')\n",
    "em3.fit(X_train, y_train)\n",
    "em4 = VotingClassifier(\n",
    "\testimators=[('nb', model1), ('dt', model5)], voting='hard')\n",
    "em4.fit(X_train, y_train)\n",
    "em5 = VotingClassifier(\n",
    "\testimators=[('nb', model1), ('dt', model6)], voting='hard')\n",
    "em5.fit(X_train, y_train)\n",
    "em6 = VotingClassifier(\n",
    "\testimators=[('rf', model3), ('dt', model4)], voting='hard')\n",
    "em6.fit(X_train, y_train)\n",
    "em7 = VotingClassifier(\n",
    "\testimators=[('rf', model3), ('knn', model5)], voting='hard')\n",
    "em7.fit(X_train, y_train)\n",
    "em8 = VotingClassifier(\n",
    "\testimators=[('rf', model3), ('svc', model6)], voting='hard')\n",
    "em8.fit(X_train, y_train)\n",
    "em9 = VotingClassifier(\n",
    "\testimators=[('dt', model4), ('knn', model5)], voting='hard')\n",
    "em9.fit(X_train, y_train)\n",
    "em10 = VotingClassifier(\n",
    "\testimators=[('dt', model4), ('svc', model6)], voting='hard')\n",
    "em10.fit(X_train, y_train)\n",
    "em11 = VotingClassifier(\n",
    "\testimators=[('knn', model5), ('svc', model6)], voting='hard')\n",
    "em11.fit(X_train, y_train)\n",
    "em12 = VotingClassifier(\n",
    "\testimators=[('nb', model1), ('lr', model2), ('rf', model3), ('dt', model4), ('knn', model5)], voting='hard')\n",
    "em12.fit(X_train, y_train)"
   ]
  },
  {
   "cell_type": "code",
   "execution_count": 9,
   "id": "11232c0d",
   "metadata": {},
   "outputs": [],
   "source": [
    "pred1 = em1.predict(X_test)\n",
    "pred2 = em2.predict(X_test)\n",
    "pred3 = em3.predict(X_test)\n",
    "pred4 = em4.predict(X_test)\n",
    "pred5 = em5.predict(X_test)\n",
    "pred6 = em6.predict(X_test)\n",
    "pred7 = em7.predict(X_test)\n",
    "pred8 = em8.predict(X_test)\n",
    "pred9 = em9.predict(X_test)\n",
    "pred10 = em10.predict(X_test)\n",
    "pred11 = em11.predict(X_test)\n",
    "pred12 = em12.predict(X_test)"
   ]
  },
  {
   "cell_type": "code",
   "execution_count": 10,
   "id": "f60021a8",
   "metadata": {},
   "outputs": [
    {
     "name": "stdout",
     "output_type": "stream",
     "text": [
      "Accuracy :  0.9425076452599388\n",
      "Accuracy :  0.9718654434250764\n",
      "Accuracy :  0.9718654434250764\n",
      "Accuracy :  0.9688073394495413\n",
      "Accuracy :  0.8978593272171254\n",
      "Accuracy :  0.9932721712538226\n",
      "Accuracy :  0.9865443425076452\n",
      "Accuracy :  0.9155963302752294\n",
      "Accuracy :  0.9865443425076452\n",
      "Accuracy :  0.9168195718654434\n",
      "Accuracy :  0.9131498470948012\n",
      "Accuracy :  0.9920489296636086\n"
     ]
    }
   ],
   "source": [
    "from sklearn.metrics import accuracy_score\n",
    "\n",
    "print (\"Accuracy : \", accuracy_score(y_test, pred1))\n",
    "print (\"Accuracy : \", accuracy_score(y_test, pred2))\n",
    "print (\"Accuracy : \", accuracy_score(y_test, pred3))\n",
    "print (\"Accuracy : \", accuracy_score(y_test, pred4))\n",
    "print (\"Accuracy : \", accuracy_score(y_test, pred5))\n",
    "print (\"Accuracy : \", accuracy_score(y_test, pred6))\n",
    "print (\"Accuracy : \", accuracy_score(y_test, pred7))\n",
    "print (\"Accuracy : \", accuracy_score(y_test, pred8))\n",
    "print (\"Accuracy : \", accuracy_score(y_test, pred9))\n",
    "print (\"Accuracy : \", accuracy_score(y_test, pred10))\n",
    "print (\"Accuracy : \", accuracy_score(y_test, pred11))\n",
    "print (\"Accuracy : \", accuracy_score(y_test, pred12))"
   ]
  },
  {
   "cell_type": "code",
   "execution_count": 11,
   "id": "94198f16",
   "metadata": {
    "scrolled": true
   },
   "outputs": [
    {
     "name": "stdout",
     "output_type": "stream",
     "text": [
      "2.072234506774931\n",
      "1.0140722054430515\n",
      "1.0140722054430515\n",
      "1.1242974451651224\n",
      "3.6815230067171654\n",
      "0.24249552738855598\n",
      "0.4849910547771118\n",
      "3.0422166163291546\n",
      "0.4849910547771118\n",
      "2.998126520440326\n",
      "3.130396808106811\n",
      "0.28658562327738435\n"
     ]
    }
   ],
   "source": [
    "print(log_loss(y_test, pred1))\n",
    "print(log_loss(y_test, pred2))\n",
    "print(log_loss(y_test, pred3))\n",
    "print(log_loss(y_test, pred4))\n",
    "print(log_loss(y_test, pred5))\n",
    "print(log_loss(y_test, pred6))\n",
    "print(log_loss(y_test, pred7))\n",
    "print(log_loss(y_test, pred8))\n",
    "print(log_loss(y_test, pred9))\n",
    "print(log_loss(y_test, pred10))\n",
    "print(log_loss(y_test, pred11))\n",
    "print(log_loss(y_test, pred12))"
   ]
  },
  {
   "cell_type": "code",
   "execution_count": null,
   "id": "f64a5805",
   "metadata": {},
   "outputs": [],
   "source": []
  }
 ],
 "metadata": {
  "kernelspec": {
   "display_name": "Python 3 (ipykernel)",
   "language": "python",
   "name": "python3"
  },
  "language_info": {
   "codemirror_mode": {
    "name": "ipython",
    "version": 3
   },
   "file_extension": ".py",
   "mimetype": "text/x-python",
   "name": "python",
   "nbconvert_exporter": "python",
   "pygments_lexer": "ipython3",
   "version": "3.10.9"
  }
 },
 "nbformat": 4,
 "nbformat_minor": 5
}
